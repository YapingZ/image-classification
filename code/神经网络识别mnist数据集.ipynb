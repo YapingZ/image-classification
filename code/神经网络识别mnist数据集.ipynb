{
 "cells": [
  {
   "cell_type": "code",
   "execution_count": 1,
   "metadata": {
    "collapsed": true
   },
   "outputs": [],
   "source": [
    "import tensorflow as tf\n",
    "from tensorflow.examples.tutorials.mnist import input_data"
   ]
  },
  {
   "cell_type": "code",
   "execution_count": null,
   "metadata": {
    "collapsed": false
   },
   "outputs": [
    {
     "name": "stdout",
     "output_type": "stream",
     "text": [
      "Extracting ./MNIST_data\\train-images-idx3-ubyte.gz\n",
      "Extracting ./MNIST_data\\train-labels-idx1-ubyte.gz\n",
      "Extracting ./MNIST_data\\t10k-images-idx3-ubyte.gz\n",
      "Extracting ./MNIST_data\\t10k-labels-idx1-ubyte.gz\n",
      "Inter0Testing accuracy 0.9512,Learning rate=0.001\n",
      "Inter1Testing accuracy 0.9603,Learning rate=9.5e-05\n",
      "Inter2Testing accuracy 0.9614,Learning rate=9.025e-06\n",
      "Inter3Testing accuracy 0.9614,Learning rate=8.57375e-07\n",
      "Inter4Testing accuracy 0.9614,Learning rate=8.14506e-08\n"
     ]
    }
   ],
   "source": [
    "#载入数据集\n",
    "mnist = input_data.read_data_sets(\"./MNIST_data\",one_hot = True)#one_hot是把标签转化成为向量的形式\n",
    "##比如数据对应的是3通过one_hot表示即为[0001000000]\n",
    "\n",
    "#每个批次的大小 一次性放入的图片的数量\n",
    "batch_size = 100\n",
    "\n",
    "#计算一共有多少个批次\n",
    "n_batch = mnist.train.num_examples // batch_size #整除\n",
    "\n",
    "#定义两个placeholder占位符\n",
    "x = tf.placeholder(tf.float32,[None,784])#行先不管（批次100则过会儿为100） 列为784的向量,MNIST数据集的维度是28*28=784\n",
    "y = tf.placeholder(tf.float32,[None,10])\n",
    "keep_prob = tf.placeholder(tf.float32)#keep_prob 表示为多少 比例的神经元 参与工作\n",
    "lr = tf.Variable(0.001, dtype=tf.float32)#学习率\n",
    "\n",
    "# #创建一个简单的神经网络 不考虑隐藏层\n",
    "# W = tf.Variable(tf.zeros([784,10]))#初始化为0 不太好\n",
    "# b = tf.Variable(tf.zeros([10]))\n",
    "# prediction  = tf.nn.softmax(tf.matmul(x,W)+b)\n",
    "\n",
    "#创建一个 神经网络(不需要这么多层 设置多层以产生过拟合 可以体现出 dropout失活的效果 )\n",
    "W1 = tf.Variable(tf.truncated_normal([784,500],stddev=0.1))#截断的正态分布函数\n",
    "b1 = tf.Variable(tf.zeros([500])+0.1)\n",
    "L1 = tf.nn.tanh(tf.matmul(x,W1)+b1)\n",
    "L1_drop = tf.nn.dropout(L1,keep_prob)#keep_prob 表示为多少 比例的神经元 参与工作\n",
    "\n",
    "W2 = tf.Variable(tf.truncated_normal([500,300],stddev=0.1))\n",
    "b2 = tf.Variable(tf.zeros([300])+0.1)\n",
    "L2 = tf.nn.tanh(tf.matmul(L1_drop,W2)+b2)\n",
    "L2_drop = tf.nn.dropout(L2,keep_prob)#keep_prob 表示为多少 比例的神经元 参与工作\n",
    "\n",
    "W3 = tf.Variable(tf.truncated_normal([300,10],stddev=0.1))\n",
    "b3 = tf.Variable(tf.zeros([10])+0.1)\n",
    "prediction  = tf.nn.softmax(tf.matmul(L2_drop,W3)+b3)\n",
    "\n",
    "\n",
    "# #二次代价函数\n",
    "# loss = tf.reduce_mean(tf.square(y - prediction))\n",
    "\n",
    "# #softmax+交叉熵\n",
    "# loss = tf.nn.softmax_cross_entropy_with_logits(labels=y,logits=prediction)\n",
    "\n",
    "#softmax+交叉熵 平均值\n",
    "loss = tf.reduce_mean(tf.nn.softmax_cross_entropy_with_logits(labels=y,logits=prediction))\n",
    "\n",
    "#梯度下降法\n",
    "train_step = tf.train.AdamOptimizer(lr).minimize(loss)\n",
    "\n",
    "#初始化变量\n",
    "init = tf.global_variables_initializer()\n",
    "\n",
    "#结果存放在一个布尔型列表中\n",
    "correct_prediction = tf.equal(tf.argmax(y,1),tf.argmax(prediction , 1))\n",
    "## tf.argmax(y,1) 表示 找到一维向量中 值为1（1最大）的那一个值所在的位置 【y为真实值】\n",
    "## tf.argmax(prediction,1) 表示 找到找到一维向量中 数值最大的那一个值所在的位置\n",
    "###判断后两个值 是否相等 相等即为true 不相等就是 false\n",
    "\n",
    "#求准确率\n",
    "accuracy = tf.reduce_mean(tf.cast(correct_prediction,tf.float32))\n",
    "##tf.cast() 转化布尔类型为float32 TRUE 转为1 false 转为0\n",
    "###然后求一下平均值 比如 【1111111110】 准确率为0.9\n",
    "\n",
    "with tf.Session() as sess:\n",
    "    #变量初始化\n",
    "    sess.run(init)\n",
    "    for epoch in range(51):#所有循环一共进行21次\n",
    "        sess.run(tf.assign(lr,0.001 * (0.095 ** epoch)))\n",
    "        for batch in range(n_batch):#内部循环代表把所有图片训练一次\n",
    "            ##n_batch 代表一共有多少个批次\n",
    "            batch_xs,batch_ys = mnist.train.next_batch(batch_size)\n",
    "            ##每次循环 获取100张图片 batch_xs 保存图片数据 batch_ys 保存图片的标签\n",
    "            sess.run(train_step,feed_dict = {x:batch_xs,y:batch_ys,keep_prob:1.0})\n",
    "            \n",
    "        learning_rate = sess.run(lr)    \n",
    "        test_acc = sess.run(accuracy,feed_dict = {x:mnist.test.images,y:mnist.test.labels,keep_prob:1.0})   #测试数据\n",
    "     \n",
    "        print(\"Inter\"+str(epoch)+\"Testing accuracy \"+str(test_acc)+\",Learning rate=\"+str(learning_rate))"
   ]
  },
  {
   "cell_type": "code",
   "execution_count": null,
   "metadata": {
    "collapsed": true
   },
   "outputs": [],
   "source": [
    " "
   ]
  },
  {
   "cell_type": "code",
   "execution_count": null,
   "metadata": {
    "collapsed": true
   },
   "outputs": [],
   "source": []
  }
 ],
 "metadata": {
  "anaconda-cloud": {},
  "kernelspec": {
   "display_name": "Python [default]",
   "language": "python",
   "name": "python3"
  },
  "language_info": {
   "codemirror_mode": {
    "name": "ipython",
    "version": 3
   },
   "file_extension": ".py",
   "mimetype": "text/x-python",
   "name": "python",
   "nbconvert_exporter": "python",
   "pygments_lexer": "ipython3",
   "version": "3.5.2"
  }
 },
 "nbformat": 4,
 "nbformat_minor": 2
}
